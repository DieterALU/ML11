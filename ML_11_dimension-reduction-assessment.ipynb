{
 "cells": [
  {
   "cell_type": "markdown",
   "metadata": {},
   "source": [
    "# Formative Assessment"
   ]
  },
  {
   "cell_type": "markdown",
   "metadata": {},
   "source": [
    "### The goal"
   ]
  },
  {
   "cell_type": "markdown",
   "metadata": {},
   "source": [
    "The goal of the assignment is to predict active power of a wind turbine using several input features. The data comes from a wind farm in France, [La Haute Borne Data (2013-2016)](https://opendata-renewables.engie.com/explore/dataset/la-haute-borne-data-2013-2016/table/?dataChart=eyJxdWVyaWVzIjpbeyJjb25maWciOnsiZGF0YXNldCI6ImxhLWhhdXRlLWJvcm5lLWRhdGEtMjAxMy0yMDE2Iiwib3B0aW9ucyI6e319LCJjaGFydHMiOlt7InR5cGUiOiJsaW5lIiwiZnVuYyI6IkFWRyIsInlBeGlzIjoiYmFfYXZnIiwic2NpZW50aWZpY0Rpc3BsYXkiOnRydWUsImNvbG9yIjoiIzY2YzJhNSJ9XSwieEF4aXMiOiJkYXRlX3RpbWUiLCJtYXhwb2ludHMiOiIiLCJ0aW1lc2NhbGUiOiJ5ZWFyIiwic29ydCI6IiJ9XX0%3D). A total of 139 features are included in the dataset, with several measures of the same feature. For instance, the active power feature is split into the following measurements: `P_min, P_max, P_avg, P_std`. \n",
    "\n",
    "The overall tasks are the following:\n",
    "\n",
    "1. Use a random forest regressor to predict power output. \n",
    "2. Perform dimension reduction using PCA.\n",
    "2. Perform cross validation to determine how well the model generalises. \n",
    "3. Determine the importance of the features.\n",
    "4. Determine the performance of the models as well.\n",
    "\n",
    "The notebook will guide you as to how to go about fulfilling these overall tasks by doing other smaller subtasks.\n",
    "\n",
    "Note that the dataset is very large, with 139 columns, so using a bit of domain knowledge we identified the following features that could be using in predicting wind turbine power output. Add to the feature subset as you build the model.\n",
    "\n"
   ]
  },
  {
   "cell_type": "markdown",
   "metadata": {},
   "source": [
    "###  Load the data\n",
    "\n",
    "Import the necessary libraries and load the data. Once loaded, investigate the data. There are two files: data_description.csv lists the variables or features of the dataset. The file wind-data.csv contains the data."
   ]
  },
  {
   "cell_type": "markdown",
   "metadata": {},
   "source": [
    "### Libraries."
   ]
  },
  {
   "cell_type": "code",
   "execution_count": 1,
   "metadata": {},
   "outputs": [],
   "source": [
    "from sklearn.ensemble import RandomForestRegressor\n",
    "from sklearn.decomposition import PCA\n",
    "from sklearn.model_selection import train_test_split\n",
    "from sklearn.preprocessing import StandardScaler\n",
    "from sklearn.metrics import accuracy_score\n",
    "import matplotlib.pyplot as plt\n",
    "import pandas as pd\n",
    "import numpy as np\n",
    "import seaborn as sns"
   ]
  },
  {
   "cell_type": "code",
   "execution_count": 2,
   "metadata": {},
   "outputs": [],
   "source": [
    "%matplotlib inline"
   ]
  },
  {
   "cell_type": "markdown",
   "metadata": {},
   "source": [
    "### Load the data\n",
    "\n",
    "Load both the data_description.csv and wind-data.csv files."
   ]
  },
  {
   "cell_type": "code",
   "execution_count": 3,
   "metadata": {},
   "outputs": [],
   "source": [
    "descript = pd.read_csv('data_description.csv', sep=';')"
   ]
  },
  {
   "cell_type": "code",
   "execution_count": 4,
   "metadata": {},
   "outputs": [
    {
     "data": {
      "text/plain": [
       "(34, 4)"
      ]
     },
     "execution_count": 4,
     "metadata": {},
     "output_type": "execute_result"
    }
   ],
   "source": [
    "descript.shape"
   ]
  },
  {
   "cell_type": "code",
   "execution_count": 5,
   "metadata": {},
   "outputs": [
    {
     "data": {
      "text/html": [
       "<div>\n",
       "<style scoped>\n",
       "    .dataframe tbody tr th:only-of-type {\n",
       "        vertical-align: middle;\n",
       "    }\n",
       "\n",
       "    .dataframe tbody tr th {\n",
       "        vertical-align: top;\n",
       "    }\n",
       "\n",
       "    .dataframe thead th {\n",
       "        text-align: right;\n",
       "    }\n",
       "</style>\n",
       "<table border=\"1\" class=\"dataframe\">\n",
       "  <thead>\n",
       "    <tr style=\"text-align: right;\">\n",
       "      <th></th>\n",
       "      <th>Variable_name</th>\n",
       "      <th>Variable_long_name</th>\n",
       "      <th>Unit_long_name</th>\n",
       "      <th>Comment</th>\n",
       "    </tr>\n",
       "  </thead>\n",
       "  <tbody>\n",
       "    <tr>\n",
       "      <th>0</th>\n",
       "      <td>Va2</td>\n",
       "      <td>Vane_position_2</td>\n",
       "      <td>deg</td>\n",
       "      <td>Second wind vane on the nacelle</td>\n",
       "    </tr>\n",
       "    <tr>\n",
       "      <th>1</th>\n",
       "      <td>Ws2</td>\n",
       "      <td>Wind_speed_2</td>\n",
       "      <td>m/s</td>\n",
       "      <td>Second anemometer on the nacelle</td>\n",
       "    </tr>\n",
       "    <tr>\n",
       "      <th>2</th>\n",
       "      <td>Ws</td>\n",
       "      <td>Wind_speed</td>\n",
       "      <td>m/s</td>\n",
       "      <td>Average wind speed</td>\n",
       "    </tr>\n",
       "    <tr>\n",
       "      <th>3</th>\n",
       "      <td>Wa_c</td>\n",
       "      <td>Absolute_wind_direction_corrected</td>\n",
       "      <td>deg</td>\n",
       "      <td>NaN</td>\n",
       "    </tr>\n",
       "    <tr>\n",
       "      <th>4</th>\n",
       "      <td>Na_c</td>\n",
       "      <td>Nacelle_angle_corrected</td>\n",
       "      <td>deg</td>\n",
       "      <td>NaN</td>\n",
       "    </tr>\n",
       "    <tr>\n",
       "      <th>5</th>\n",
       "      <td>Ot</td>\n",
       "      <td>Outdoor_temperature</td>\n",
       "      <td>deg_C</td>\n",
       "      <td>NaN</td>\n",
       "    </tr>\n",
       "    <tr>\n",
       "      <th>6</th>\n",
       "      <td>Yt</td>\n",
       "      <td>Nacelle_temperature</td>\n",
       "      <td>deg_C</td>\n",
       "      <td>NaN</td>\n",
       "    </tr>\n",
       "    <tr>\n",
       "      <th>7</th>\n",
       "      <td>Nf</td>\n",
       "      <td>Grid_frequency</td>\n",
       "      <td>Hz</td>\n",
       "      <td>NaN</td>\n",
       "    </tr>\n",
       "    <tr>\n",
       "      <th>8</th>\n",
       "      <td>Nu</td>\n",
       "      <td>Grid_voltage</td>\n",
       "      <td>V</td>\n",
       "      <td>NaN</td>\n",
       "    </tr>\n",
       "    <tr>\n",
       "      <th>9</th>\n",
       "      <td>Rm</td>\n",
       "      <td>Torque</td>\n",
       "      <td>Nm</td>\n",
       "      <td>NaN</td>\n",
       "    </tr>\n",
       "    <tr>\n",
       "      <th>10</th>\n",
       "      <td>Dst</td>\n",
       "      <td>Generator_stator_temperature</td>\n",
       "      <td>deg_C</td>\n",
       "      <td>NaN</td>\n",
       "    </tr>\n",
       "    <tr>\n",
       "      <th>11</th>\n",
       "      <td>Git</td>\n",
       "      <td>Gearbox_inlet_temperature</td>\n",
       "      <td>deg_C</td>\n",
       "      <td>NaN</td>\n",
       "    </tr>\n",
       "    <tr>\n",
       "      <th>12</th>\n",
       "      <td>Q</td>\n",
       "      <td>Reactive_power</td>\n",
       "      <td>kVAr</td>\n",
       "      <td>NaN</td>\n",
       "    </tr>\n",
       "    <tr>\n",
       "      <th>13</th>\n",
       "      <td>Gb2t</td>\n",
       "      <td>Gearbox_bearing_2_temperature</td>\n",
       "      <td>deg_C</td>\n",
       "      <td>NaN</td>\n",
       "    </tr>\n",
       "    <tr>\n",
       "      <th>14</th>\n",
       "      <td>Gost</td>\n",
       "      <td>Gearbox_oil_sump_temperature</td>\n",
       "      <td>deg_C</td>\n",
       "      <td>NaN</td>\n",
       "    </tr>\n",
       "    <tr>\n",
       "      <th>15</th>\n",
       "      <td>DCs</td>\n",
       "      <td>Generator_converter_speed</td>\n",
       "      <td>rpm</td>\n",
       "      <td>NaN</td>\n",
       "    </tr>\n",
       "    <tr>\n",
       "      <th>16</th>\n",
       "      <td>Wa</td>\n",
       "      <td>Absolute_wind_direction</td>\n",
       "      <td>deg</td>\n",
       "      <td>NaN</td>\n",
       "    </tr>\n",
       "    <tr>\n",
       "      <th>17</th>\n",
       "      <td>Ds</td>\n",
       "      <td>Generator_speed</td>\n",
       "      <td>rpm</td>\n",
       "      <td>NaN</td>\n",
       "    </tr>\n",
       "    <tr>\n",
       "      <th>18</th>\n",
       "      <td>Cm</td>\n",
       "      <td>Converter_torque</td>\n",
       "      <td>Nm</td>\n",
       "      <td>NaN</td>\n",
       "    </tr>\n",
       "    <tr>\n",
       "      <th>19</th>\n",
       "      <td>Va</td>\n",
       "      <td>Vane_position</td>\n",
       "      <td>deg</td>\n",
       "      <td>NaN</td>\n",
       "    </tr>\n",
       "    <tr>\n",
       "      <th>20</th>\n",
       "      <td>Ya</td>\n",
       "      <td>Nacelle_angle</td>\n",
       "      <td>deg</td>\n",
       "      <td>NaN</td>\n",
       "    </tr>\n",
       "    <tr>\n",
       "      <th>21</th>\n",
       "      <td>Rs</td>\n",
       "      <td>Rotor_speed</td>\n",
       "      <td>rpm</td>\n",
       "      <td>NaN</td>\n",
       "    </tr>\n",
       "    <tr>\n",
       "      <th>22</th>\n",
       "      <td>S</td>\n",
       "      <td>Apparent_power</td>\n",
       "      <td>kVA</td>\n",
       "      <td>Should be the square root of the sum of P squa...</td>\n",
       "    </tr>\n",
       "    <tr>\n",
       "      <th>23</th>\n",
       "      <td>Cosphi</td>\n",
       "      <td>Power_factor</td>\n",
       "      <td>NaN</td>\n",
       "      <td>Should equal P/S</td>\n",
       "    </tr>\n",
       "    <tr>\n",
       "      <th>24</th>\n",
       "      <td>Rt</td>\n",
       "      <td>Hub_temperature</td>\n",
       "      <td>deg_C</td>\n",
       "      <td>NaN</td>\n",
       "    </tr>\n",
       "    <tr>\n",
       "      <th>25</th>\n",
       "      <td>Ba</td>\n",
       "      <td>Pitch_angle</td>\n",
       "      <td>deg</td>\n",
       "      <td>NaN</td>\n",
       "    </tr>\n",
       "    <tr>\n",
       "      <th>26</th>\n",
       "      <td>P</td>\n",
       "      <td>Active_power</td>\n",
       "      <td>kW</td>\n",
       "      <td>NaN</td>\n",
       "    </tr>\n",
       "    <tr>\n",
       "      <th>27</th>\n",
       "      <td>Va1</td>\n",
       "      <td>Vane_position_1</td>\n",
       "      <td>deg</td>\n",
       "      <td>First wind vane on the nacelle</td>\n",
       "    </tr>\n",
       "    <tr>\n",
       "      <th>28</th>\n",
       "      <td>Ws1</td>\n",
       "      <td>Wind_speed_1</td>\n",
       "      <td>m/s</td>\n",
       "      <td>First anemometer on the nacelle</td>\n",
       "    </tr>\n",
       "    <tr>\n",
       "      <th>29</th>\n",
       "      <td>Db2t</td>\n",
       "      <td>Generator_bearing_2_temperature</td>\n",
       "      <td>deg_C</td>\n",
       "      <td>NaN</td>\n",
       "    </tr>\n",
       "    <tr>\n",
       "      <th>30</th>\n",
       "      <td>Db1t</td>\n",
       "      <td>Generator_bearing_1_temperature</td>\n",
       "      <td>deg_C</td>\n",
       "      <td>NaN</td>\n",
       "    </tr>\n",
       "    <tr>\n",
       "      <th>31</th>\n",
       "      <td>Gb1t</td>\n",
       "      <td>Gearbox_bearing_1_temperature</td>\n",
       "      <td>deg_C</td>\n",
       "      <td>NaN</td>\n",
       "    </tr>\n",
       "    <tr>\n",
       "      <th>32</th>\n",
       "      <td>Rbt</td>\n",
       "      <td>Rotor_bearing_temperature</td>\n",
       "      <td>deg_C</td>\n",
       "      <td>NaN</td>\n",
       "    </tr>\n",
       "    <tr>\n",
       "      <th>33</th>\n",
       "      <td>Pas</td>\n",
       "      <td>Pitch_angle_setpoint</td>\n",
       "      <td>NaN</td>\n",
       "      <td>NaN</td>\n",
       "    </tr>\n",
       "  </tbody>\n",
       "</table>\n",
       "</div>"
      ],
      "text/plain": [
       "   Variable_name                 Variable_long_name Unit_long_name  \\\n",
       "0            Va2                    Vane_position_2            deg   \n",
       "1            Ws2                       Wind_speed_2            m/s   \n",
       "2             Ws                         Wind_speed            m/s   \n",
       "3           Wa_c  Absolute_wind_direction_corrected            deg   \n",
       "4           Na_c            Nacelle_angle_corrected            deg   \n",
       "5             Ot                Outdoor_temperature          deg_C   \n",
       "6             Yt                Nacelle_temperature          deg_C   \n",
       "7             Nf                     Grid_frequency             Hz   \n",
       "8             Nu                       Grid_voltage              V   \n",
       "9             Rm                             Torque             Nm   \n",
       "10           Dst       Generator_stator_temperature          deg_C   \n",
       "11           Git          Gearbox_inlet_temperature          deg_C   \n",
       "12             Q                     Reactive_power           kVAr   \n",
       "13          Gb2t      Gearbox_bearing_2_temperature          deg_C   \n",
       "14          Gost       Gearbox_oil_sump_temperature          deg_C   \n",
       "15           DCs          Generator_converter_speed            rpm   \n",
       "16            Wa            Absolute_wind_direction            deg   \n",
       "17            Ds                    Generator_speed            rpm   \n",
       "18            Cm                   Converter_torque             Nm   \n",
       "19            Va                      Vane_position            deg   \n",
       "20            Ya                      Nacelle_angle            deg   \n",
       "21            Rs                        Rotor_speed            rpm   \n",
       "22             S                     Apparent_power            kVA   \n",
       "23        Cosphi                       Power_factor            NaN   \n",
       "24            Rt                    Hub_temperature          deg_C   \n",
       "25            Ba                        Pitch_angle            deg   \n",
       "26             P                       Active_power             kW   \n",
       "27           Va1                    Vane_position_1            deg   \n",
       "28           Ws1                       Wind_speed_1            m/s   \n",
       "29          Db2t    Generator_bearing_2_temperature          deg_C   \n",
       "30          Db1t    Generator_bearing_1_temperature          deg_C   \n",
       "31          Gb1t      Gearbox_bearing_1_temperature          deg_C   \n",
       "32           Rbt          Rotor_bearing_temperature          deg_C   \n",
       "33           Pas               Pitch_angle_setpoint            NaN   \n",
       "\n",
       "                                              Comment  \n",
       "0                     Second wind vane on the nacelle  \n",
       "1                    Second anemometer on the nacelle  \n",
       "2                                  Average wind speed  \n",
       "3                                                 NaN  \n",
       "4                                                 NaN  \n",
       "5                                                 NaN  \n",
       "6                                                 NaN  \n",
       "7                                                 NaN  \n",
       "8                                                 NaN  \n",
       "9                                                 NaN  \n",
       "10                                                NaN  \n",
       "11                                                NaN  \n",
       "12                                                NaN  \n",
       "13                                                NaN  \n",
       "14                                                NaN  \n",
       "15                                                NaN  \n",
       "16                                                NaN  \n",
       "17                                                NaN  \n",
       "18                                                NaN  \n",
       "19                                                NaN  \n",
       "20                                                NaN  \n",
       "21                                                NaN  \n",
       "22  Should be the square root of the sum of P squa...  \n",
       "23                                   Should equal P/S  \n",
       "24                                                NaN  \n",
       "25                                                NaN  \n",
       "26                                                NaN  \n",
       "27                     First wind vane on the nacelle  \n",
       "28                    First anemometer on the nacelle  \n",
       "29                                                NaN  \n",
       "30                                                NaN  \n",
       "31                                                NaN  \n",
       "32                                                NaN  \n",
       "33                                                NaN  "
      ]
     },
     "execution_count": 5,
     "metadata": {},
     "output_type": "execute_result"
    }
   ],
   "source": [
    "descript"
   ]
  },
  {
   "cell_type": "markdown",
   "metadata": {},
   "source": [
    "__Helpful hint__: Load the data into a dataframe. Use the `parse_dates=['Date_time']` argument in the `read_csv` function in order to display dates in later plots."
   ]
  },
  {
   "cell_type": "code",
   "execution_count": 6,
   "metadata": {},
   "outputs": [],
   "source": [
    "data = pd.read_csv('wind-data.csv', sep=';', parse_dates=['Date_time'])"
   ]
  },
  {
   "cell_type": "code",
   "execution_count": 7,
   "metadata": {},
   "outputs": [
    {
     "data": {
      "text/html": [
       "<div>\n",
       "<style scoped>\n",
       "    .dataframe tbody tr th:only-of-type {\n",
       "        vertical-align: middle;\n",
       "    }\n",
       "\n",
       "    .dataframe tbody tr th {\n",
       "        vertical-align: top;\n",
       "    }\n",
       "\n",
       "    .dataframe thead th {\n",
       "        text-align: right;\n",
       "    }\n",
       "</style>\n",
       "<table border=\"1\" class=\"dataframe\">\n",
       "  <thead>\n",
       "    <tr style=\"text-align: right;\">\n",
       "      <th></th>\n",
       "      <th>Unnamed: 0</th>\n",
       "      <th>Wind_turbine_name</th>\n",
       "      <th>Date_time</th>\n",
       "      <th>Ba_avg</th>\n",
       "      <th>Ba_min</th>\n",
       "      <th>Ba_max</th>\n",
       "      <th>Ba_std</th>\n",
       "      <th>Rt_avg</th>\n",
       "      <th>Rt_min</th>\n",
       "      <th>Rt_max</th>\n",
       "      <th>...</th>\n",
       "      <th>Pas_max</th>\n",
       "      <th>Pas_std</th>\n",
       "      <th>Wa_c_avg</th>\n",
       "      <th>Wa_c_min</th>\n",
       "      <th>Wa_c_max</th>\n",
       "      <th>Wa_c_std</th>\n",
       "      <th>Na_c_avg</th>\n",
       "      <th>Na_c_min</th>\n",
       "      <th>Na_c_max</th>\n",
       "      <th>Na_c_std</th>\n",
       "    </tr>\n",
       "  </thead>\n",
       "  <tbody>\n",
       "    <tr>\n",
       "      <th>0</th>\n",
       "      <td>804808</td>\n",
       "      <td>R80711</td>\n",
       "      <td>2013-04-06 14:20:00</td>\n",
       "      <td>-0.940000</td>\n",
       "      <td>-0.950000</td>\n",
       "      <td>-0.940000</td>\n",
       "      <td>0.0</td>\n",
       "      <td>10.59</td>\n",
       "      <td>10.000000</td>\n",
       "      <td>11.0</td>\n",
       "      <td>...</td>\n",
       "      <td>NaN</td>\n",
       "      <td>NaN</td>\n",
       "      <td>358.870000</td>\n",
       "      <td>NaN</td>\n",
       "      <td>NaN</td>\n",
       "      <td>NaN</td>\n",
       "      <td>351.670010</td>\n",
       "      <td>NaN</td>\n",
       "      <td>NaN</td>\n",
       "      <td>NaN</td>\n",
       "    </tr>\n",
       "    <tr>\n",
       "      <th>1</th>\n",
       "      <td>732424</td>\n",
       "      <td>R80711</td>\n",
       "      <td>2015-12-22 14:30:00</td>\n",
       "      <td>-0.990000</td>\n",
       "      <td>-0.990000</td>\n",
       "      <td>-0.990000</td>\n",
       "      <td>0.0</td>\n",
       "      <td>17.00</td>\n",
       "      <td>17.000000</td>\n",
       "      <td>17.0</td>\n",
       "      <td>...</td>\n",
       "      <td>NaN</td>\n",
       "      <td>NaN</td>\n",
       "      <td>NaN</td>\n",
       "      <td>NaN</td>\n",
       "      <td>NaN</td>\n",
       "      <td>NaN</td>\n",
       "      <td>NaN</td>\n",
       "      <td>NaN</td>\n",
       "      <td>NaN</td>\n",
       "      <td>NaN</td>\n",
       "    </tr>\n",
       "    <tr>\n",
       "      <th>2</th>\n",
       "      <td>312987</td>\n",
       "      <td>R80711</td>\n",
       "      <td>2016-03-20 20:40:00</td>\n",
       "      <td>-0.990000</td>\n",
       "      <td>-0.990000</td>\n",
       "      <td>-0.990000</td>\n",
       "      <td>0.0</td>\n",
       "      <td>12.88</td>\n",
       "      <td>12.000000</td>\n",
       "      <td>13.0</td>\n",
       "      <td>...</td>\n",
       "      <td>NaN</td>\n",
       "      <td>NaN</td>\n",
       "      <td>44.849998</td>\n",
       "      <td>NaN</td>\n",
       "      <td>NaN</td>\n",
       "      <td>NaN</td>\n",
       "      <td>44.849998</td>\n",
       "      <td>NaN</td>\n",
       "      <td>NaN</td>\n",
       "      <td>NaN</td>\n",
       "    </tr>\n",
       "    <tr>\n",
       "      <th>3</th>\n",
       "      <td>68152</td>\n",
       "      <td>R80711</td>\n",
       "      <td>2016-01-09 01:00:00</td>\n",
       "      <td>45.000000</td>\n",
       "      <td>45.000000</td>\n",
       "      <td>45.000000</td>\n",
       "      <td>0.0</td>\n",
       "      <td>12.95</td>\n",
       "      <td>12.000000</td>\n",
       "      <td>13.0</td>\n",
       "      <td>...</td>\n",
       "      <td>NaN</td>\n",
       "      <td>NaN</td>\n",
       "      <td>243.020000</td>\n",
       "      <td>NaN</td>\n",
       "      <td>NaN</td>\n",
       "      <td>NaN</td>\n",
       "      <td>243.020000</td>\n",
       "      <td>NaN</td>\n",
       "      <td>NaN</td>\n",
       "      <td>NaN</td>\n",
       "    </tr>\n",
       "    <tr>\n",
       "      <th>4</th>\n",
       "      <td>231878</td>\n",
       "      <td>R80721</td>\n",
       "      <td>2014-12-14 13:20:00</td>\n",
       "      <td>44.990002</td>\n",
       "      <td>44.990002</td>\n",
       "      <td>44.990002</td>\n",
       "      <td>0.0</td>\n",
       "      <td>16.99</td>\n",
       "      <td>16.110001</td>\n",
       "      <td>17.0</td>\n",
       "      <td>...</td>\n",
       "      <td>NaN</td>\n",
       "      <td>NaN</td>\n",
       "      <td>195.060000</td>\n",
       "      <td>NaN</td>\n",
       "      <td>NaN</td>\n",
       "      <td>NaN</td>\n",
       "      <td>308.239990</td>\n",
       "      <td>NaN</td>\n",
       "      <td>NaN</td>\n",
       "      <td>NaN</td>\n",
       "    </tr>\n",
       "  </tbody>\n",
       "</table>\n",
       "<p>5 rows × 139 columns</p>\n",
       "</div>"
      ],
      "text/plain": [
       "   Unnamed: 0 Wind_turbine_name           Date_time     Ba_avg     Ba_min  \\\n",
       "0      804808            R80711 2013-04-06 14:20:00  -0.940000  -0.950000   \n",
       "1      732424            R80711 2015-12-22 14:30:00  -0.990000  -0.990000   \n",
       "2      312987            R80711 2016-03-20 20:40:00  -0.990000  -0.990000   \n",
       "3       68152            R80711 2016-01-09 01:00:00  45.000000  45.000000   \n",
       "4      231878            R80721 2014-12-14 13:20:00  44.990002  44.990002   \n",
       "\n",
       "      Ba_max  Ba_std  Rt_avg     Rt_min  Rt_max    ...     Pas_max  Pas_std  \\\n",
       "0  -0.940000     0.0   10.59  10.000000    11.0    ...         NaN      NaN   \n",
       "1  -0.990000     0.0   17.00  17.000000    17.0    ...         NaN      NaN   \n",
       "2  -0.990000     0.0   12.88  12.000000    13.0    ...         NaN      NaN   \n",
       "3  45.000000     0.0   12.95  12.000000    13.0    ...         NaN      NaN   \n",
       "4  44.990002     0.0   16.99  16.110001    17.0    ...         NaN      NaN   \n",
       "\n",
       "     Wa_c_avg  Wa_c_min  Wa_c_max  Wa_c_std    Na_c_avg  Na_c_min  Na_c_max  \\\n",
       "0  358.870000       NaN       NaN       NaN  351.670010       NaN       NaN   \n",
       "1         NaN       NaN       NaN       NaN         NaN       NaN       NaN   \n",
       "2   44.849998       NaN       NaN       NaN   44.849998       NaN       NaN   \n",
       "3  243.020000       NaN       NaN       NaN  243.020000       NaN       NaN   \n",
       "4  195.060000       NaN       NaN       NaN  308.239990       NaN       NaN   \n",
       "\n",
       "   Na_c_std  \n",
       "0       NaN  \n",
       "1       NaN  \n",
       "2       NaN  \n",
       "3       NaN  \n",
       "4       NaN  \n",
       "\n",
       "[5 rows x 139 columns]"
      ]
     },
     "execution_count": 7,
     "metadata": {},
     "output_type": "execute_result"
    }
   ],
   "source": [
    "data.head()"
   ]
  },
  {
   "cell_type": "markdown",
   "metadata": {},
   "source": [
    "### Explore the data"
   ]
  },
  {
   "cell_type": "markdown",
   "metadata": {},
   "source": [
    "Once you've loaded the data into a pandas dataframe, explore the data. You may start by generating summary statistics, identifying any missing values, and filling in missing values. Generate visualizations of the features as a way to start understanding the distribution of the data."
   ]
  },
  {
   "cell_type": "code",
   "execution_count": 8,
   "metadata": {},
   "outputs": [
    {
     "data": {
      "text/html": [
       "<div>\n",
       "<style scoped>\n",
       "    .dataframe tbody tr th:only-of-type {\n",
       "        vertical-align: middle;\n",
       "    }\n",
       "\n",
       "    .dataframe tbody tr th {\n",
       "        vertical-align: top;\n",
       "    }\n",
       "\n",
       "    .dataframe thead th {\n",
       "        text-align: right;\n",
       "    }\n",
       "</style>\n",
       "<table border=\"1\" class=\"dataframe\">\n",
       "  <thead>\n",
       "    <tr style=\"text-align: right;\">\n",
       "      <th></th>\n",
       "      <th>Unnamed: 0</th>\n",
       "      <th>Ba_avg</th>\n",
       "      <th>Ba_min</th>\n",
       "      <th>Ba_max</th>\n",
       "      <th>Ba_std</th>\n",
       "      <th>Rt_avg</th>\n",
       "      <th>Rt_min</th>\n",
       "      <th>Rt_max</th>\n",
       "      <th>Rt_std</th>\n",
       "      <th>DCs_avg</th>\n",
       "      <th>...</th>\n",
       "      <th>Pas_max</th>\n",
       "      <th>Pas_std</th>\n",
       "      <th>Wa_c_avg</th>\n",
       "      <th>Wa_c_min</th>\n",
       "      <th>Wa_c_max</th>\n",
       "      <th>Wa_c_std</th>\n",
       "      <th>Na_c_avg</th>\n",
       "      <th>Na_c_min</th>\n",
       "      <th>Na_c_max</th>\n",
       "      <th>Na_c_std</th>\n",
       "    </tr>\n",
       "  </thead>\n",
       "  <tbody>\n",
       "    <tr>\n",
       "      <th>count</th>\n",
       "      <td>100000.000000</td>\n",
       "      <td>99434.000000</td>\n",
       "      <td>99434.000000</td>\n",
       "      <td>99434.000000</td>\n",
       "      <td>99434.000000</td>\n",
       "      <td>99434.000000</td>\n",
       "      <td>99434.000000</td>\n",
       "      <td>99434.000000</td>\n",
       "      <td>99434.000000</td>\n",
       "      <td>99434.000000</td>\n",
       "      <td>...</td>\n",
       "      <td>0.0</td>\n",
       "      <td>0.0</td>\n",
       "      <td>95957.000000</td>\n",
       "      <td>0.0</td>\n",
       "      <td>0.0</td>\n",
       "      <td>0.0</td>\n",
       "      <td>95957.000000</td>\n",
       "      <td>0.0</td>\n",
       "      <td>0.0</td>\n",
       "      <td>0.0</td>\n",
       "    </tr>\n",
       "    <tr>\n",
       "      <th>mean</th>\n",
       "      <td>420315.817680</td>\n",
       "      <td>13.895284</td>\n",
       "      <td>12.843969</td>\n",
       "      <td>15.299697</td>\n",
       "      <td>0.821932</td>\n",
       "      <td>19.296322</td>\n",
       "      <td>19.100206</td>\n",
       "      <td>19.517049</td>\n",
       "      <td>0.106288</td>\n",
       "      <td>1054.617672</td>\n",
       "      <td>...</td>\n",
       "      <td>NaN</td>\n",
       "      <td>NaN</td>\n",
       "      <td>177.366418</td>\n",
       "      <td>NaN</td>\n",
       "      <td>NaN</td>\n",
       "      <td>NaN</td>\n",
       "      <td>178.221646</td>\n",
       "      <td>NaN</td>\n",
       "      <td>NaN</td>\n",
       "      <td>NaN</td>\n",
       "    </tr>\n",
       "    <tr>\n",
       "      <th>std</th>\n",
       "      <td>242726.140649</td>\n",
       "      <td>28.341010</td>\n",
       "      <td>28.196735</td>\n",
       "      <td>28.856883</td>\n",
       "      <td>3.785026</td>\n",
       "      <td>6.178154</td>\n",
       "      <td>6.188843</td>\n",
       "      <td>6.181887</td>\n",
       "      <td>0.157178</td>\n",
       "      <td>626.441120</td>\n",
       "      <td>...</td>\n",
       "      <td>NaN</td>\n",
       "      <td>NaN</td>\n",
       "      <td>95.942759</td>\n",
       "      <td>NaN</td>\n",
       "      <td>NaN</td>\n",
       "      <td>NaN</td>\n",
       "      <td>96.146789</td>\n",
       "      <td>NaN</td>\n",
       "      <td>NaN</td>\n",
       "      <td>NaN</td>\n",
       "    </tr>\n",
       "    <tr>\n",
       "      <th>min</th>\n",
       "      <td>29.000000</td>\n",
       "      <td>-121.260000</td>\n",
       "      <td>-121.260000</td>\n",
       "      <td>-121.260000</td>\n",
       "      <td>0.000000</td>\n",
       "      <td>0.000000</td>\n",
       "      <td>0.000000</td>\n",
       "      <td>0.000000</td>\n",
       "      <td>0.000000</td>\n",
       "      <td>-574.900020</td>\n",
       "      <td>...</td>\n",
       "      <td>NaN</td>\n",
       "      <td>NaN</td>\n",
       "      <td>0.000000</td>\n",
       "      <td>NaN</td>\n",
       "      <td>NaN</td>\n",
       "      <td>NaN</td>\n",
       "      <td>0.000000</td>\n",
       "      <td>NaN</td>\n",
       "      <td>NaN</td>\n",
       "      <td>NaN</td>\n",
       "    </tr>\n",
       "    <tr>\n",
       "      <th>25%</th>\n",
       "      <td>210471.750000</td>\n",
       "      <td>-0.990000</td>\n",
       "      <td>-1.000000</td>\n",
       "      <td>-0.990000</td>\n",
       "      <td>0.000000</td>\n",
       "      <td>14.030000</td>\n",
       "      <td>14.000000</td>\n",
       "      <td>15.000000</td>\n",
       "      <td>0.000000</td>\n",
       "      <td>964.030030</td>\n",
       "      <td>...</td>\n",
       "      <td>NaN</td>\n",
       "      <td>NaN</td>\n",
       "      <td>84.269997</td>\n",
       "      <td>NaN</td>\n",
       "      <td>NaN</td>\n",
       "      <td>NaN</td>\n",
       "      <td>85.010002</td>\n",
       "      <td>NaN</td>\n",
       "      <td>NaN</td>\n",
       "      <td>NaN</td>\n",
       "    </tr>\n",
       "    <tr>\n",
       "      <th>50%</th>\n",
       "      <td>420179.500000</td>\n",
       "      <td>-0.970000</td>\n",
       "      <td>-0.990000</td>\n",
       "      <td>-0.500000</td>\n",
       "      <td>0.000000</td>\n",
       "      <td>19.000000</td>\n",
       "      <td>19.000000</td>\n",
       "      <td>19.000000</td>\n",
       "      <td>0.000000</td>\n",
       "      <td>1178.130000</td>\n",
       "      <td>...</td>\n",
       "      <td>NaN</td>\n",
       "      <td>NaN</td>\n",
       "      <td>194.690000</td>\n",
       "      <td>NaN</td>\n",
       "      <td>NaN</td>\n",
       "      <td>NaN</td>\n",
       "      <td>196.050000</td>\n",
       "      <td>NaN</td>\n",
       "      <td>NaN</td>\n",
       "      <td>NaN</td>\n",
       "    </tr>\n",
       "    <tr>\n",
       "      <th>75%</th>\n",
       "      <td>630450.750000</td>\n",
       "      <td>6.157500</td>\n",
       "      <td>-0.500000</td>\n",
       "      <td>24.075000</td>\n",
       "      <td>0.130000</td>\n",
       "      <td>24.000000</td>\n",
       "      <td>24.000000</td>\n",
       "      <td>24.000000</td>\n",
       "      <td>0.210000</td>\n",
       "      <td>1563.830000</td>\n",
       "      <td>...</td>\n",
       "      <td>NaN</td>\n",
       "      <td>NaN</td>\n",
       "      <td>247.730000</td>\n",
       "      <td>NaN</td>\n",
       "      <td>NaN</td>\n",
       "      <td>NaN</td>\n",
       "      <td>249.220000</td>\n",
       "      <td>NaN</td>\n",
       "      <td>NaN</td>\n",
       "      <td>NaN</td>\n",
       "    </tr>\n",
       "    <tr>\n",
       "      <th>max</th>\n",
       "      <td>840370.000000</td>\n",
       "      <td>262.609990</td>\n",
       "      <td>262.609990</td>\n",
       "      <td>262.609990</td>\n",
       "      <td>47.740002</td>\n",
       "      <td>39.000000</td>\n",
       "      <td>39.000000</td>\n",
       "      <td>39.000000</td>\n",
       "      <td>0.940000</td>\n",
       "      <td>1806.660000</td>\n",
       "      <td>...</td>\n",
       "      <td>NaN</td>\n",
       "      <td>NaN</td>\n",
       "      <td>359.989990</td>\n",
       "      <td>NaN</td>\n",
       "      <td>NaN</td>\n",
       "      <td>NaN</td>\n",
       "      <td>359.989990</td>\n",
       "      <td>NaN</td>\n",
       "      <td>NaN</td>\n",
       "      <td>NaN</td>\n",
       "    </tr>\n",
       "  </tbody>\n",
       "</table>\n",
       "<p>8 rows × 137 columns</p>\n",
       "</div>"
      ],
      "text/plain": [
       "          Unnamed: 0        Ba_avg        Ba_min        Ba_max        Ba_std  \\\n",
       "count  100000.000000  99434.000000  99434.000000  99434.000000  99434.000000   \n",
       "mean   420315.817680     13.895284     12.843969     15.299697      0.821932   \n",
       "std    242726.140649     28.341010     28.196735     28.856883      3.785026   \n",
       "min        29.000000   -121.260000   -121.260000   -121.260000      0.000000   \n",
       "25%    210471.750000     -0.990000     -1.000000     -0.990000      0.000000   \n",
       "50%    420179.500000     -0.970000     -0.990000     -0.500000      0.000000   \n",
       "75%    630450.750000      6.157500     -0.500000     24.075000      0.130000   \n",
       "max    840370.000000    262.609990    262.609990    262.609990     47.740002   \n",
       "\n",
       "             Rt_avg        Rt_min        Rt_max        Rt_std       DCs_avg  \\\n",
       "count  99434.000000  99434.000000  99434.000000  99434.000000  99434.000000   \n",
       "mean      19.296322     19.100206     19.517049      0.106288   1054.617672   \n",
       "std        6.178154      6.188843      6.181887      0.157178    626.441120   \n",
       "min        0.000000      0.000000      0.000000      0.000000   -574.900020   \n",
       "25%       14.030000     14.000000     15.000000      0.000000    964.030030   \n",
       "50%       19.000000     19.000000     19.000000      0.000000   1178.130000   \n",
       "75%       24.000000     24.000000     24.000000      0.210000   1563.830000   \n",
       "max       39.000000     39.000000     39.000000      0.940000   1806.660000   \n",
       "\n",
       "         ...     Pas_max  Pas_std      Wa_c_avg  Wa_c_min  Wa_c_max  Wa_c_std  \\\n",
       "count    ...         0.0      0.0  95957.000000       0.0       0.0       0.0   \n",
       "mean     ...         NaN      NaN    177.366418       NaN       NaN       NaN   \n",
       "std      ...         NaN      NaN     95.942759       NaN       NaN       NaN   \n",
       "min      ...         NaN      NaN      0.000000       NaN       NaN       NaN   \n",
       "25%      ...         NaN      NaN     84.269997       NaN       NaN       NaN   \n",
       "50%      ...         NaN      NaN    194.690000       NaN       NaN       NaN   \n",
       "75%      ...         NaN      NaN    247.730000       NaN       NaN       NaN   \n",
       "max      ...         NaN      NaN    359.989990       NaN       NaN       NaN   \n",
       "\n",
       "           Na_c_avg  Na_c_min  Na_c_max  Na_c_std  \n",
       "count  95957.000000       0.0       0.0       0.0  \n",
       "mean     178.221646       NaN       NaN       NaN  \n",
       "std       96.146789       NaN       NaN       NaN  \n",
       "min        0.000000       NaN       NaN       NaN  \n",
       "25%       85.010002       NaN       NaN       NaN  \n",
       "50%      196.050000       NaN       NaN       NaN  \n",
       "75%      249.220000       NaN       NaN       NaN  \n",
       "max      359.989990       NaN       NaN       NaN  \n",
       "\n",
       "[8 rows x 137 columns]"
      ]
     },
     "execution_count": 8,
     "metadata": {},
     "output_type": "execute_result"
    }
   ],
   "source": [
    "data.describe()"
   ]
  },
  {
   "cell_type": "code",
   "execution_count": 9,
   "metadata": {},
   "outputs": [
    {
     "data": {
      "text/plain": [
       "RangeIndex(start=0, stop=100000, step=1)"
      ]
     },
     "execution_count": 9,
     "metadata": {},
     "output_type": "execute_result"
    }
   ],
   "source": [
    "data.index"
   ]
  },
  {
   "cell_type": "code",
   "execution_count": 10,
   "metadata": {},
   "outputs": [
    {
     "data": {
      "text/plain": [
       "Index(['Unnamed: 0', 'Wind_turbine_name', 'Date_time', 'Ba_avg', 'Ba_min',\n",
       "       'Ba_max', 'Ba_std', 'Rt_avg', 'Rt_min', 'Rt_max',\n",
       "       ...\n",
       "       'Pas_max', 'Pas_std', 'Wa_c_avg', 'Wa_c_min', 'Wa_c_max', 'Wa_c_std',\n",
       "       'Na_c_avg', 'Na_c_min', 'Na_c_max', 'Na_c_std'],\n",
       "      dtype='object', length=139)"
      ]
     },
     "execution_count": 10,
     "metadata": {},
     "output_type": "execute_result"
    }
   ],
   "source": [
    "data.columns"
   ]
  },
  {
   "cell_type": "markdown",
   "metadata": {},
   "source": [
    "### Taking a look at a correlation matrix of the data"
   ]
  },
  {
   "cell_type": "code",
   "execution_count": 12,
   "metadata": {},
   "outputs": [
    {
     "data": {
      "text/plain": [
       "<matplotlib.axes._subplots.AxesSubplot at 0xd0a3ba8>"
      ]
     },
     "execution_count": 12,
     "metadata": {},
     "output_type": "execute_result"
    },
    {
     "data": {
      "image/png": "[encoded data removed]",
      "text/plain": [
       "<matplotlib.figure.Figure at 0xc9a2e80>"
      ]
     },
     "metadata": {},
     "output_type": "display_data"
    }
   ],
   "source": [
    "corr = data.corr()\n",
    "plt.figure(figsize=(30,30))\n",
    "sns.heatmap(corr, xticklabels=corr.columns.values, yticklabels=corr.columns.values)"
   ]
  },
  {
   "cell_type": "markdown",
   "metadata": {},
   "source": [
    "Because we are investigating power output, the active power feature is given by the following features in  the dataset: `P_avg, P_min, P_max, P_std`. Decide on which active power feature to use (hint: perhaps the average or maximum would be a good place to start). Begin by using the function `groupby` to determine how many turbines there are in the dataset. The dataset is huge, so in order to visualize trends in power output, a simpler way would be to look at monthly trends in the data."
   ]
  },
  {
   "cell_type": "markdown",
   "metadata": {},
   "source": [
    "#### How many years of P_avg is in the data set?"
   ]
  },
  {
   "cell_type": "code",
   "execution_count": 40,
   "metadata": {},
   "outputs": [
    {
     "data": {
      "text/plain": [
       "Text(0,0.5,'Power in units')"
      ]
     },
     "execution_count": 40,
     "metadata": {},
     "output_type": "execute_result"
    },
    {
     "data": {
      "image/png": "[encoded data removed]",
      "text/plain": [
       "<matplotlib.figure.Figure at 0x482826a0>"
      ]
     },
     "metadata": {},
     "output_type": "display_data"
    }
   ],
   "source": [
    "data_dates = data.groupby(['Date_time']).sum()\n",
    "data_dates['P_avg'].plot(figsize=(16, 10), linewidth=2)\n",
    "plt.title(\"Average Power\", fontsize=20)\n",
    "plt.xlabel(\"Years\")\n",
    "plt.ylabel(\"Power in units\")"
   ]
  },
  {
   "cell_type": "markdown",
   "metadata": {},
   "source": [
    "#### Making new data set with only the features I am interested in"
   ]
  },
  {
   "cell_type": "code",
   "execution_count": 38,
   "metadata": {},
   "outputs": [],
   "source": [
    "data_explore = data.filter(['Date_time','Wind_turbine_name','P_avg','P_max'], axis=1)"
   ]
  },
  {
   "cell_type": "code",
   "execution_count": 39,
   "metadata": {},
   "outputs": [
    {
     "data": {
      "text/html": [
       "<div>\n",
       "<style scoped>\n",
       "    .dataframe tbody tr th:only-of-type {\n",
       "        vertical-align: middle;\n",
       "    }\n",
       "\n",
       "    .dataframe tbody tr th {\n",
       "        vertical-align: top;\n",
       "    }\n",
       "\n",
       "    .dataframe thead th {\n",
       "        text-align: right;\n",
       "    }\n",
       "</style>\n",
       "<table border=\"1\" class=\"dataframe\">\n",
       "  <thead>\n",
       "    <tr style=\"text-align: right;\">\n",
       "      <th></th>\n",
       "      <th>Date_time</th>\n",
       "      <th>Wind_turbine_name</th>\n",
       "      <th>P_avg</th>\n",
       "      <th>P_max</th>\n",
       "    </tr>\n",
       "  </thead>\n",
       "  <tbody>\n",
       "    <tr>\n",
       "      <th>0</th>\n",
       "      <td>2013-04-06 14:20:00</td>\n",
       "      <td>R80711</td>\n",
       "      <td>484.29001</td>\n",
       "      <td>679.60999</td>\n",
       "    </tr>\n",
       "    <tr>\n",
       "      <th>1</th>\n",
       "      <td>2015-12-22 14:30:00</td>\n",
       "      <td>R80711</td>\n",
       "      <td>523.26001</td>\n",
       "      <td>727.02002</td>\n",
       "    </tr>\n",
       "    <tr>\n",
       "      <th>2</th>\n",
       "      <td>2016-03-20 20:40:00</td>\n",
       "      <td>R80711</td>\n",
       "      <td>228.82001</td>\n",
       "      <td>387.01001</td>\n",
       "    </tr>\n",
       "    <tr>\n",
       "      <th>3</th>\n",
       "      <td>2016-01-09 01:00:00</td>\n",
       "      <td>R80711</td>\n",
       "      <td>0.00000</td>\n",
       "      <td>0.00000</td>\n",
       "    </tr>\n",
       "    <tr>\n",
       "      <th>4</th>\n",
       "      <td>2014-12-14 13:20:00</td>\n",
       "      <td>R80721</td>\n",
       "      <td>-2.28000</td>\n",
       "      <td>-1.02000</td>\n",
       "    </tr>\n",
       "  </tbody>\n",
       "</table>\n",
       "</div>"
      ],
      "text/plain": [
       "            Date_time Wind_turbine_name      P_avg      P_max\n",
       "0 2013-04-06 14:20:00            R80711  484.29001  679.60999\n",
       "1 2015-12-22 14:30:00            R80711  523.26001  727.02002\n",
       "2 2016-03-20 20:40:00            R80711  228.82001  387.01001\n",
       "3 2016-01-09 01:00:00            R80711    0.00000    0.00000\n",
       "4 2014-12-14 13:20:00            R80721   -2.28000   -1.02000"
      ]
     },
     "execution_count": 39,
     "metadata": {},
     "output_type": "execute_result"
    }
   ],
   "source": [
    "data_explore.head()"
   ]
  },
  {
   "cell_type": "markdown",
   "metadata": {},
   "source": [
    "There is a wind turbine with `Wind_turbine_name` R80711. Use this column and determine the trend for the month of January."
   ]
  },
  {
   "cell_type": "code",
   "execution_count": null,
   "metadata": {},
   "outputs": [],
   "source": []
  },
  {
   "cell_type": "code",
   "execution_count": null,
   "metadata": {},
   "outputs": [],
   "source": []
  },
  {
   "cell_type": "code",
   "execution_count": null,
   "metadata": {},
   "outputs": [],
   "source": []
  },
  {
   "cell_type": "markdown",
   "metadata": {},
   "source": [
    "### Find missing values"
   ]
  },
  {
   "cell_type": "markdown",
   "metadata": {},
   "source": [
    "A dataset with missing values will not be usable for fitting and testing a model. Fill in missing values in a way suitable for the model."
   ]
  },
  {
   "cell_type": "code",
   "execution_count": 16,
   "metadata": {},
   "outputs": [
    {
     "data": {
      "text/plain": [
       "Unnamed: 0                0\n",
       "Wind_turbine_name         0\n",
       "Date_time                 0\n",
       "Ba_avg                    0\n",
       "Ba_min                    0\n",
       "Ba_max                    0\n",
       "Ba_std                    0\n",
       "Rt_avg                    0\n",
       "Rt_min                    0\n",
       "Rt_max                    0\n",
       "Rt_std                    0\n",
       "DCs_avg                   0\n",
       "DCs_min                   0\n",
       "DCs_max                   0\n",
       "DCs_std                   0\n",
       "Cm_avg                    0\n",
       "Cm_min                    0\n",
       "Cm_max                    0\n",
       "Cm_std                    0\n",
       "P_avg                     0\n",
       "P_min                     0\n",
       "P_max                     0\n",
       "P_std                     0\n",
       "Q_avg                     0\n",
       "Q_min                     0\n",
       "Q_max                     0\n",
       "Q_std                     0\n",
       "S_avg                     0\n",
       "S_min                     0\n",
       "S_max                     0\n",
       "                      ...  \n",
       "Nf_max                    0\n",
       "Nf_std                    0\n",
       "Nu_avg                    0\n",
       "Nu_min                    0\n",
       "Nu_max                    0\n",
       "Nu_std                    0\n",
       "Rs_avg                    0\n",
       "Rs_min                    0\n",
       "Rs_max                    0\n",
       "Rs_std                    0\n",
       "Rbt_avg                   0\n",
       "Rbt_min                   0\n",
       "Rbt_max                   0\n",
       "Rbt_std                   0\n",
       "Rm_avg                    0\n",
       "Rm_min                    0\n",
       "Rm_max                    0\n",
       "Rm_std                    0\n",
       "Pas_avg              100000\n",
       "Pas_min              100000\n",
       "Pas_max              100000\n",
       "Pas_std              100000\n",
       "Wa_c_avg                  0\n",
       "Wa_c_min             100000\n",
       "Wa_c_max             100000\n",
       "Wa_c_std             100000\n",
       "Na_c_avg                  0\n",
       "Na_c_min             100000\n",
       "Na_c_max             100000\n",
       "Na_c_std             100000\n",
       "Length: 139, dtype: int64"
      ]
     },
     "execution_count": 16,
     "metadata": {},
     "output_type": "execute_result"
    }
   ],
   "source": [
    "data.isnull().sum()"
   ]
  },
  {
   "cell_type": "code",
   "execution_count": 17,
   "metadata": {},
   "outputs": [],
   "source": [
    "data = data.fillna(data.median(axis=0))"
   ]
  },
  {
   "cell_type": "markdown",
   "metadata": {},
   "source": [
    "### Split dataset into predictor and target matrices"
   ]
  },
  {
   "cell_type": "code",
   "execution_count": null,
   "metadata": {},
   "outputs": [],
   "source": []
  },
  {
   "cell_type": "markdown",
   "metadata": {},
   "source": [
    "### Dimension Reduction with PCA"
   ]
  },
  {
   "cell_type": "markdown",
   "metadata": {},
   "source": [
    "The dataset we have it quite huge. We need to select features to use for our analysis of the active power. To discover the principal features, we can principal component analysis. First split the data into predictor and target variables. PCA allows you to reduce the number of you predictors, and to decorrelate them especially for features that have a direct relationship like apparent power, reactive power and active power."
   ]
  },
  {
   "cell_type": "code",
   "execution_count": null,
   "metadata": {},
   "outputs": [],
   "source": []
  },
  {
   "cell_type": "code",
   "execution_count": null,
   "metadata": {},
   "outputs": [],
   "source": []
  },
  {
   "cell_type": "code",
   "execution_count": null,
   "metadata": {},
   "outputs": [],
   "source": []
  },
  {
   "cell_type": "markdown",
   "metadata": {},
   "source": [
    "### Plot the variance"
   ]
  },
  {
   "cell_type": "code",
   "execution_count": null,
   "metadata": {},
   "outputs": [],
   "source": []
  },
  {
   "cell_type": "code",
   "execution_count": null,
   "metadata": {},
   "outputs": [],
   "source": []
  },
  {
   "cell_type": "code",
   "execution_count": null,
   "metadata": {},
   "outputs": [],
   "source": []
  },
  {
   "cell_type": "markdown",
   "metadata": {},
   "source": [
    "### Random Forest with PCA"
   ]
  },
  {
   "cell_type": "markdown",
   "metadata": {},
   "source": [
    "Construct a PCA and Random Forest Regressor pipeline. A pipeline is a term for the processing of data until it reaches a form that is usable for the machine learning algorithm. Now there is an actual pipeline module you'll need to use, that streamlines the process of dimension reduction and application of the machine learning algorithm, in this case the random forest regression model. For now, use the first two principal components to construct the pipeline."
   ]
  },
  {
   "cell_type": "code",
   "execution_count": null,
   "metadata": {},
   "outputs": [],
   "source": []
  },
  {
   "cell_type": "code",
   "execution_count": null,
   "metadata": {},
   "outputs": [],
   "source": [
    "    "
   ]
  },
  {
   "cell_type": "code",
   "execution_count": null,
   "metadata": {},
   "outputs": [],
   "source": []
  },
  {
   "cell_type": "code",
   "execution_count": null,
   "metadata": {},
   "outputs": [],
   "source": []
  },
  {
   "cell_type": "markdown",
   "metadata": {},
   "source": [
    "### Plot the principal components"
   ]
  },
  {
   "cell_type": "markdown",
   "metadata": {},
   "source": [
    "Select the first two components and display them. As rule of thumb, the first to components are selected as they are easier to display in a 2-dimensions."
   ]
  },
  {
   "cell_type": "code",
   "execution_count": null,
   "metadata": {},
   "outputs": [],
   "source": []
  },
  {
   "cell_type": "markdown",
   "metadata": {},
   "source": [
    "### Split dataset in training and test sets"
   ]
  },
  {
   "cell_type": "markdown",
   "metadata": {},
   "source": [
    "Split the data into training and test sets and use the pipeline to fit and test the model."
   ]
  },
  {
   "cell_type": "code",
   "execution_count": null,
   "metadata": {},
   "outputs": [],
   "source": []
  },
  {
   "cell_type": "code",
   "execution_count": null,
   "metadata": {},
   "outputs": [],
   "source": []
  },
  {
   "cell_type": "code",
   "execution_count": null,
   "metadata": {},
   "outputs": [],
   "source": []
  },
  {
   "cell_type": "code",
   "execution_count": null,
   "metadata": {},
   "outputs": [],
   "source": []
  },
  {
   "cell_type": "markdown",
   "metadata": {},
   "source": [
    "### Evaluate the results"
   ]
  },
  {
   "cell_type": "markdown",
   "metadata": {},
   "source": [
    "Using the `sklearn.metrics` moduel determine the accuracy score, i.e., the coefficient of determination $R^2$ of the prediction."
   ]
  },
  {
   "cell_type": "code",
   "execution_count": null,
   "metadata": {},
   "outputs": [],
   "source": []
  },
  {
   "cell_type": "code",
   "execution_count": null,
   "metadata": {},
   "outputs": [],
   "source": []
  },
  {
   "cell_type": "markdown",
   "metadata": {},
   "source": [
    "### References"
   ]
  },
  {
   "cell_type": "markdown",
   "metadata": {},
   "source": [
    "Referred to for determination of input features to predict power output: [Forecasting Wind Power](https://lucdemortier.github.io/articles/17/WindPower).\n",
    "\n",
    "[Selecting good features – Part IV: stability selection, RFE and everything side by side](http://blog.datadive.net/selecting-good-features-part-iv-stability-selection-rfe-and-everything-side-by-side/)"
   ]
  },
  {
   "cell_type": "code",
   "execution_count": null,
   "metadata": {},
   "outputs": [],
   "source": []
  }
 ],
 "metadata": {
  "kernelspec": {
   "display_name": "Python 3",
   "language": "python",
   "name": "python3"
  },
  "language_info": {
   "codemirror_mode": {
    "name": "ipython",
    "version": 3
   },
   "file_extension": ".py",
   "mimetype": "text/x-python",
   "name": "python",
   "nbconvert_exporter": "python",
   "pygments_lexer": "ipython3",
   "version": "3.6.4"
  }
 },
 "nbformat": 4,
 "nbformat_minor": 2
}
